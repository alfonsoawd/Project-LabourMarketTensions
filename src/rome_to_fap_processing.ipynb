{
 "cells": [
  {
   "cell_type": "markdown",
   "id": "701e3c2a",
   "metadata": {},
   "source": [
    "## ROME TO FAP LINKING TABLE PROCESSING\n",
    "\n",
    "### Purpose\n",
    "This script processes the ROME to FAP linking table, structuring occupational classification codes for analysis.\n",
    "\n",
    "### Steps\n",
    "1. **Load Data:** Import the Excel file and select the relevant sheet.\n",
    "2. **Extract Categories:** Assign hierarchical FAP codes (`fap22`, `fap87`, `fap225`).\n",
    "3. **Handle Missing Data:** Remove empty rows and forward-fill missing values.\n",
    "4. **Assign Professional Families:** Map `famille_pro` names based on category levels.\n",
    "5. **Clean & Filter:** Keep relevant rows, drop unnecessary columns, and reorder data.\n",
    "\n",
    "### Output\n",
    "A structured dataset with FAP codes, professional families, PCS categories, and ROME classifications for streamlined analysis and merging.\n"
   ]
  },
  {
   "cell_type": "markdown",
   "id": "8a22ea72",
   "metadata": {},
   "source": [
    "### 1- LIBRARIES AND PATHS"
   ]
  },
  {
   "cell_type": "code",
   "execution_count": 1,
   "id": "0c9e6b69",
   "metadata": {},
   "outputs": [],
   "source": [
    "# IMPORT LIBRARIES\n",
    "from pathlib import Path # To set relative paths\n",
    "import pandas as pd"
   ]
  },
  {
   "cell_type": "code",
   "execution_count": 2,
   "id": "3a5619e5",
   "metadata": {},
   "outputs": [],
   "source": [
    "# GETTING PROJECT'S ROOT DIRECTORY\n",
    "base_folder = Path().resolve()  # CURRENT WORKING DIRECTORY\n",
    "main_folder = base_folder.parent\n",
    "\n",
    "# SETTING PATHS AND DIRECTORIES\n",
    "fap_to_rome = main_folder / \"data\" / \"linking tables\" / \"Rome-V3 vers Fap-2009.xls\"\n",
    "output_path = main_folder / \"data\" / \"linking tables\" / \"Rome_to_Fap_processed.csv\""
   ]
  },
  {
   "cell_type": "markdown",
   "id": "54c1d552",
   "metadata": {},
   "source": [
    "### 2- WORKFLOW"
   ]
  },
  {
   "cell_type": "code",
   "execution_count": 3,
   "id": "4d01f4be",
   "metadata": {
    "scrolled": false
   },
   "outputs": [
    {
     "data": {
      "text/html": [
       "<div>\n",
       "<style scoped>\n",
       "    .dataframe tbody tr th:only-of-type {\n",
       "        vertical-align: middle;\n",
       "    }\n",
       "\n",
       "    .dataframe tbody tr th {\n",
       "        vertical-align: top;\n",
       "    }\n",
       "\n",
       "    .dataframe thead th {\n",
       "        text-align: right;\n",
       "    }\n",
       "</style>\n",
       "<table border=\"1\" class=\"dataframe\">\n",
       "  <thead>\n",
       "    <tr style=\"text-align: right;\">\n",
       "      <th></th>\n",
       "      <th>fap22</th>\n",
       "      <th>famille_pro22</th>\n",
       "      <th>fap87</th>\n",
       "      <th>famille_pro87</th>\n",
       "      <th>rome</th>\n",
       "      <th>rome_label</th>\n",
       "    </tr>\n",
       "  </thead>\n",
       "  <tbody>\n",
       "    <tr>\n",
       "      <th>25</th>\n",
       "      <td>A</td>\n",
       "      <td>Agriculture, marine, pêche</td>\n",
       "      <td>A0Z</td>\n",
       "      <td>Agriculteurs, éleveurs, sylviculteurs, bûcherons</td>\n",
       "      <td>A1416</td>\n",
       "      <td>Polyculture, élevage</td>\n",
       "    </tr>\n",
       "    <tr>\n",
       "      <th>27</th>\n",
       "      <td>A</td>\n",
       "      <td>Agriculture, marine, pêche</td>\n",
       "      <td>A0Z</td>\n",
       "      <td>Agriculteurs, éleveurs, sylviculteurs, bûcherons</td>\n",
       "      <td>A1403</td>\n",
       "      <td>Aide d'élevage agricole et aquacole</td>\n",
       "    </tr>\n",
       "    <tr>\n",
       "      <th>28</th>\n",
       "      <td>A</td>\n",
       "      <td>Agriculture, marine, pêche</td>\n",
       "      <td>A0Z</td>\n",
       "      <td>Agriculteurs, éleveurs, sylviculteurs, bûcherons</td>\n",
       "      <td>A1407</td>\n",
       "      <td>Élevage bovin ou équin</td>\n",
       "    </tr>\n",
       "    <tr>\n",
       "      <th>29</th>\n",
       "      <td>A</td>\n",
       "      <td>Agriculture, marine, pêche</td>\n",
       "      <td>A0Z</td>\n",
       "      <td>Agriculteurs, éleveurs, sylviculteurs, bûcherons</td>\n",
       "      <td>A1408</td>\n",
       "      <td>Élevage d'animaux sauvages ou de compagnie</td>\n",
       "    </tr>\n",
       "    <tr>\n",
       "      <th>30</th>\n",
       "      <td>A</td>\n",
       "      <td>Agriculture, marine, pêche</td>\n",
       "      <td>A0Z</td>\n",
       "      <td>Agriculteurs, éleveurs, sylviculteurs, bûcherons</td>\n",
       "      <td>A1409</td>\n",
       "      <td>Élevage de lapins et volailles</td>\n",
       "    </tr>\n",
       "    <tr>\n",
       "      <th>...</th>\n",
       "      <td>...</td>\n",
       "      <td>...</td>\n",
       "      <td>...</td>\n",
       "      <td>...</td>\n",
       "      <td>...</td>\n",
       "      <td>...</td>\n",
       "    </tr>\n",
       "    <tr>\n",
       "      <th>1401</th>\n",
       "      <td>W</td>\n",
       "      <td>Enseignement, formation</td>\n",
       "      <td>W0Z</td>\n",
       "      <td>Enseignants</td>\n",
       "      <td>K2109</td>\n",
       "      <td>Enseignement technique et professionnel</td>\n",
       "    </tr>\n",
       "    <tr>\n",
       "      <th>1405</th>\n",
       "      <td>W</td>\n",
       "      <td>Enseignement, formation</td>\n",
       "      <td>W0Z</td>\n",
       "      <td>Enseignants</td>\n",
       "      <td>K2103</td>\n",
       "      <td>Direction d'établissement et d'enseignement</td>\n",
       "    </tr>\n",
       "    <tr>\n",
       "      <th>1410</th>\n",
       "      <td>W</td>\n",
       "      <td>Enseignement, formation</td>\n",
       "      <td>W0Z</td>\n",
       "      <td>Enseignants</td>\n",
       "      <td>K2108</td>\n",
       "      <td>Enseignement supérieur</td>\n",
       "    </tr>\n",
       "    <tr>\n",
       "      <th>1416</th>\n",
       "      <td>W</td>\n",
       "      <td>Enseignement, formation</td>\n",
       "      <td>W1Z</td>\n",
       "      <td>Formateurs</td>\n",
       "      <td>K2110</td>\n",
       "      <td>Formation en conduite de véhicules</td>\n",
       "    </tr>\n",
       "    <tr>\n",
       "      <th>1417</th>\n",
       "      <td>W</td>\n",
       "      <td>Enseignement, formation</td>\n",
       "      <td>W1Z</td>\n",
       "      <td>Formateurs</td>\n",
       "      <td>K2111</td>\n",
       "      <td>Formation professionnelle</td>\n",
       "    </tr>\n",
       "  </tbody>\n",
       "</table>\n",
       "<p>714 rows × 6 columns</p>\n",
       "</div>"
      ],
      "text/plain": [
       "     fap22               famille_pro22 fap87  \\\n",
       "25       A  Agriculture, marine, pêche   A0Z   \n",
       "27       A  Agriculture, marine, pêche   A0Z   \n",
       "28       A  Agriculture, marine, pêche   A0Z   \n",
       "29       A  Agriculture, marine, pêche   A0Z   \n",
       "30       A  Agriculture, marine, pêche   A0Z   \n",
       "...    ...                         ...   ...   \n",
       "1401     W     Enseignement, formation   W0Z   \n",
       "1405     W     Enseignement, formation   W0Z   \n",
       "1410     W     Enseignement, formation   W0Z   \n",
       "1416     W     Enseignement, formation   W1Z   \n",
       "1417     W     Enseignement, formation   W1Z   \n",
       "\n",
       "                                         famille_pro87   rome  \\\n",
       "25    Agriculteurs, éleveurs, sylviculteurs, bûcherons  A1416   \n",
       "27    Agriculteurs, éleveurs, sylviculteurs, bûcherons  A1403   \n",
       "28    Agriculteurs, éleveurs, sylviculteurs, bûcherons  A1407   \n",
       "29    Agriculteurs, éleveurs, sylviculteurs, bûcherons  A1408   \n",
       "30    Agriculteurs, éleveurs, sylviculteurs, bûcherons  A1409   \n",
       "...                                                ...    ...   \n",
       "1401                                       Enseignants  K2109   \n",
       "1405                                       Enseignants  K2103   \n",
       "1410                                       Enseignants  K2108   \n",
       "1416                                        Formateurs  K2110   \n",
       "1417                                        Formateurs  K2111   \n",
       "\n",
       "                                       rome_label  \n",
       "25                           Polyculture, élevage  \n",
       "27            Aide d'élevage agricole et aquacole  \n",
       "28                         Élevage bovin ou équin  \n",
       "29     Élevage d'animaux sauvages ou de compagnie  \n",
       "30                 Élevage de lapins et volailles  \n",
       "...                                           ...  \n",
       "1401      Enseignement technique et professionnel  \n",
       "1405  Direction d'établissement et d'enseignement  \n",
       "1410                       Enseignement supérieur  \n",
       "1416           Formation en conduite de véhicules  \n",
       "1417                    Formation professionnelle  \n",
       "\n",
       "[714 rows x 6 columns]"
      ]
     },
     "execution_count": 3,
     "metadata": {},
     "output_type": "execute_result"
    }
   ],
   "source": [
    "# IMPORT ROME TO FAP LINKING TABLE\n",
    "link = pd.read_excel(fap_to_rome, sheet_name=1)\n",
    "\n",
    "# ASSIGNING CATEGORY (FAP COLUMN)\n",
    "category_col = link.columns[0]\n",
    "\n",
    "# FUNCTION TO EXTRACT CATEGORIES IN SEPARATE COLUMNS\n",
    "def extract_categories(code):\n",
    "    if pd.isna(code):\n",
    "        return pd.Series([None, None, None])  # Handle missing values\n",
    "    elif len(code) == 1:  # Level 1 (e.g., 'A')\n",
    "        return pd.Series([code, None, None])\n",
    "    elif len(code) == 3:  # Level 2 (e.g., 'A0Z')\n",
    "        return pd.Series([code[0], code, None])\n",
    "    else:  # Level 3 (e.g., 'A0Z00')\n",
    "        return pd.Series([code[0], code[:3], code])\n",
    "\n",
    "# APPLY FUNCTION TO CREATE NEW CATEGORY COLUMN\n",
    "link[['fap22', 'fap87', 'fap225']] = link[category_col].apply(extract_categories)\n",
    "\n",
    "# DROP BLANK ROWS\n",
    "link.dropna(subset=['fap22', 'fap87', 'fap225', 'ROME'], how='all', inplace=True)\n",
    "\n",
    "# CREATING A FLAG FOR MISSING ROME CODE (TO USE LATER FOR DROP)\n",
    "link[\"no_rome_code\"] = link[\"ROME\"].isna()\n",
    "\n",
    "# CREATE COLUMNS FOR PROFESSIONAL FAMILY FOR EACH FAP CATEGORY\n",
    "link[\"famille_pro22\"] = link[\"Familles professionnelles\"].where(link[\"fap22\"].notna() & link[\"fap87\"].isna() & link[\"fap225\"].isna())\n",
    "link[\"famille_pro87\"] = link[\"Familles professionnelles\"].where(link[\"fap22\"].notna() & link[\"fap87\"].notna() & link[\"fap225\"].isna())\n",
    "link[\"famille_pro225\"] = link[\"Familles professionnelles\"].where(link[\"fap22\"].notna() & link[\"fap87\"].notna() & link[\"fap225\"].notna())\n",
    "\n",
    "# REPLACE NA WITH CLOSEST VALUE UPWARD\n",
    "link = link.fillna(method=\"ffill\")\n",
    "\n",
    "# KEEP COLUMNS AND DATA OF INTEREST\n",
    "link = link[link[\"no_rome_code\"] == False]\n",
    "link = link[[\"fap22\", \"famille_pro22\", \"fap87\", \"famille_pro87\", \"ROME\", \n",
    "             \"Répertoire Opérationnel des Métiers et des Emplois\"]]\n",
    "link.rename(columns={\"ROME\": \"rome\", \"Répertoire Opérationnel des Métiers et des Emplois\": \"rome_label\"}, inplace=True)\n",
    "\n",
    "# DROP DUPLICATES\n",
    "link.drop_duplicates(inplace=True)\n",
    "\n",
    "# PRINT THE TABLE\n",
    "link"
   ]
  },
  {
   "cell_type": "markdown",
   "id": "822257ed",
   "metadata": {},
   "source": [
    "The issue is that the there exists different fap225 with the same **rome code**, the only think that differentiate them is their associated \"qualification code\" which is not available neither in our STMT or JOCAS dataset, where we only have the rome code."
   ]
  },
  {
   "cell_type": "code",
   "execution_count": 86,
   "id": "42450b79",
   "metadata": {
    "scrolled": false
   },
   "outputs": [
    {
     "name": "stdout",
     "output_type": "stream",
     "text": [
      "Duplicated ROME with different FAP : 168\n"
     ]
    }
   ],
   "source": [
    "# NUMBER OF DUPLICATED ROME (WITHOUT THE FIRST VALUE)\n",
    "print(f\"Duplicated ROME with different FAP : {link[link['rome'].duplicated()]['rome'].nunique()}\")"
   ]
  },
  {
   "cell_type": "markdown",
   "id": "4e16715b",
   "metadata": {},
   "source": [
    "We have 168 duplicated rome code out of 714 ones. We will assume that people with similar ROME code (even across different FAP) have the same capabilities and could therefore apply to any job with this ROME code --> this will create some duplicates for the same ROME code."
   ]
  },
  {
   "cell_type": "markdown",
   "id": "b9ed8d33",
   "metadata": {},
   "source": [
    "### 3- EXPORT FILE"
   ]
  },
  {
   "cell_type": "code",
   "execution_count": 4,
   "id": "77ef00a2",
   "metadata": {},
   "outputs": [],
   "source": [
    "# EXPORT DATASET \n",
    "link.to_csv(output_path, index=False)"
   ]
  }
 ],
 "metadata": {
  "kernelspec": {
   "display_name": "Python 3 (ipykernel)",
   "language": "python",
   "name": "python3"
  },
  "language_info": {
   "codemirror_mode": {
    "name": "ipython",
    "version": 3
   },
   "file_extension": ".py",
   "mimetype": "text/x-python",
   "name": "python",
   "nbconvert_exporter": "python",
   "pygments_lexer": "ipython3",
   "version": "3.11.4"
  }
 },
 "nbformat": 4,
 "nbformat_minor": 5
}
